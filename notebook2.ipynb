{
 "cells": [
  {
   "cell_type": "code",
   "execution_count": 10,
   "id": "6cb830e7",
   "metadata": {},
   "outputs": [],
   "source": [
    "import google.generativeai as genai\n",
    "import faiss\n",
    "import numpy as np\n",
    "import pickle"
   ]
  },
  {
   "cell_type": "code",
   "execution_count": null,
   "id": "b87b6218",
   "metadata": {},
   "outputs": [],
   "source": [
    "GEMINI_API_KEY = 'YOUR_API_KEY'"
   ]
  },
  {
   "cell_type": "code",
   "execution_count": 12,
   "id": "09f7fcaf",
   "metadata": {},
   "outputs": [],
   "source": [
    "genai.configure(api_key=GEMINI_API_KEY)\n",
    "EMBEDDING_MODEL_NAME = \"models/text-embedding-004\" # Standard Gemini embedding model\n",
    "FAISS_INDEX_PATH = \"school_handbook.faiss\"\n",
    "CHUNKS_DATA_PATH = \"school_handbook_chunks.pkl\"\n",
    "GENERATION_MODEL_NAME = \"gemini-2.0-flash-exp\"  # For generating responses"
   ]
  },
  {
   "cell_type": "code",
   "execution_count": 13,
   "id": "a988e0ba",
   "metadata": {},
   "outputs": [
    {
     "name": "stdout",
     "output_type": "stream",
     "text": [
      "\n",
      "1. Loading FAISS index and chunks data...\n",
      "FAISS index loaded from school_handbook.faiss. Total vectors: 70\n",
      "Chunks data loaded from school_handbook_chunks.pkl. Total chunks: 70\n",
      "------------------------------------\n"
     ]
    }
   ],
   "source": [
    "# --- 1. Load the chunks and the embeddings (FAISS index) ---\n",
    "print(\"\\n1. Loading FAISS index and chunks data...\")\n",
    "loaded_index = None\n",
    "loaded_chunks = []\n",
    "try:\n",
    "    loaded_index = faiss.read_index(FAISS_INDEX_PATH)\n",
    "    print(f\"FAISS index loaded from {FAISS_INDEX_PATH}. Total vectors: {loaded_index.ntotal}\")\n",
    "\n",
    "    with open(CHUNKS_DATA_PATH, \"rb\") as f:\n",
    "        loaded_chunks = pickle.load(f)\n",
    "    print(f\"Chunks data loaded from {CHUNKS_DATA_PATH}. Total chunks: {len(loaded_chunks)}\")\n",
    "except Exception as e:\n",
    "    print(f\"Error loading data: {e}\")\n",
    "    exit()\n",
    "print(\"------------------------------------\")"
   ]
  },
  {
   "cell_type": "code",
   "execution_count": 14,
   "id": "afd4365f",
   "metadata": {},
   "outputs": [
    {
     "name": "stdout",
     "output_type": "stream",
     "text": [
      "\n",
      "2. Defining retrieval function...\n"
     ]
    }
   ],
   "source": [
    "# --- 2. Make a retrieval function ---\n",
    "print(\"\\n2. Defining retrieval function...\")\n",
    "def retrieve_relevant_chunks(user_prompt: str, faiss_index, text_chunks: list, top_k: int = 3) -> list[str]:\n",
    "    \"\"\"\n",
    "    Retrieves the top_k most relevant chunks from the FAISS index based on the user prompt.\n",
    "    \"\"\"\n",
    "    if not faiss_index or not text_chunks:\n",
    "        print(\"FAISS index or text_chunks not available for retrieval.\")\n",
    "        return []\n",
    "\n",
    "    try:\n",
    "        # Embed the user prompt (query)\n",
    "        # `task_type=\"RETRIEVAL_QUERY\"` is important for search queries\n",
    "        query_embedding_response = genai.embed_content(\n",
    "            model=EMBEDDING_MODEL_NAME,\n",
    "            content=user_prompt,\n",
    "            task_type=\"RETRIEVAL_QUERY\"\n",
    "        )\n",
    "        query_embedding = query_embedding_response['embedding']\n",
    "        query_vector_np = np.array([query_embedding]).astype('float32')\n",
    "\n",
    "        # Search the FAISS index\n",
    "        distances, indices = faiss_index.search(query_vector_np, top_k)\n",
    "\n",
    "        relevant_chunks = []\n",
    "        print(f\"\\nSearching for: '{user_prompt}'\")\n",
    "        print(\"Top matches:\")\n",
    "        for i in range(len(indices[0])):\n",
    "            idx = indices[0][i]\n",
    "            dist = distances[0][i]\n",
    "            if idx < len(text_chunks): # Ensure index is within bounds\n",
    "                relevant_chunks.append(text_chunks[idx])\n",
    "                print(f\"  Match {i+1} (Index: {idx}, Distance: {dist:.4f}):\")\n",
    "                print(f\"    \\\"{text_chunks[idx][:150].replace(r'\\n', ' ')}...\\\"\") # Preview\n",
    "            else:\n",
    "                print(f\"  Warning: FAISS index {idx} out of bounds for loaded chunks ({len(text_chunks)}).\")\n",
    "        return relevant_chunks\n",
    "\n",
    "    except Exception as e:\n",
    "        print(f\"Error during retrieval: {e}\")\n",
    "        return []"
   ]
  },
  {
   "cell_type": "code",
   "execution_count": 16,
   "id": "64b6223e",
   "metadata": {},
   "outputs": [
    {
     "name": "stdout",
     "output_type": "stream",
     "text": [
      "\n",
      "--- Retrieval Example ---\n",
      "\n",
      "Searching for: 'What is the school's mission?'\n",
      "Top matches:\n",
      "  Match 1 (Index: 5, Distance: 0.6486):\n",
      "    \"**1.2. Our Mission**\n",
      "\n",
      "The mission of Pathways Academy is to provide a safe, supportive, and stimulating learning environment where all students can ac...\"\n",
      "  Match 2 (Index: 6, Distance: 0.7698):\n",
      "    \"**1.3. Our Vision**\n",
      "\n",
      "Pathways Academy aspires to be a leading educational institution recognized for its innovative teaching practices, commitment to ...\"\n",
      "\n",
      "Searching for: 'Tell me about the dress code.'\n",
      "Top matches:\n",
      "  Match 1 (Index: 29, Distance: 0.6979):\n",
      "    \"**4.4. Dress Code**\n",
      "The purpose of the Pathways Academy dress code is to promote a positive, safe, and respectful learning environment, minimize distr...\"\n",
      "  Match 2 (Index: 25, Distance: 0.9523):\n",
      "    \"**4. CODE OF CONDUCT**\n",
      "\n",
      "The Pathways Academy Code of Conduct is established to create and maintain a safe, orderly, respectful, and positive learning ...\"\n",
      "  Match 3 (Index: 28, Distance: 0.9639):\n",
      "    \"**4.3. General Expectations**\n",
      "Students are expected to:\n",
      "*   Demonstrate honesty and integrity in all academic and personal matters.\n",
      "*   Use appropriat...\"\n",
      "\n",
      "Searching for: 'Emergency procedures for fire'\n",
      "Top matches:\n",
      "  Match 1 (Index: 48, Distance: 0.6469):\n",
      "    \"**7.1. Emergency Procedures (Drills and Protocols)**\n",
      "Pathways Academy has a comprehensive emergency preparedness and crisis response plan, developed i...\"\n",
      "\n",
      "--- Script Finished ---\n"
     ]
    }
   ],
   "source": [
    "# --- Example Usage of Retrieval Function ---\n",
    "if loaded_index and loaded_chunks:\n",
    "    print(\"\\n--- Retrieval Example ---\")\n",
    "    sample_prompt_1 = \"What is the school's mission?\"\n",
    "    retrieved_1 = retrieve_relevant_chunks(sample_prompt_1, loaded_index, loaded_chunks, top_k=2)\n",
    "\n",
    "    sample_prompt_2 = \"Tell me about the dress code.\"\n",
    "    retrieved_2 = retrieve_relevant_chunks(sample_prompt_2, loaded_index, loaded_chunks, top_k=3)\n",
    "\n",
    "    sample_prompt_3 = \"Emergency procedures for fire\"\n",
    "    retrieved_3 = retrieve_relevant_chunks(sample_prompt_3, loaded_index, loaded_chunks, top_k=1)\n",
    "else:\n",
    "    print(\"Skipping retrieval example as data was not loaded properly.\")\n",
    "\n",
    "print(\"\\n--- Script Finished ---\")"
   ]
  },
  {
   "cell_type": "code",
   "execution_count": 17,
   "id": "1fb0aa35",
   "metadata": {},
   "outputs": [],
   "source": [
    "\n",
    "def generate_response(user_question: str, relevant_chunks: list):\n",
    "    \"\"\"Generate a response using Gemini with the retrieved context\"\"\"\n",
    "    if not relevant_chunks:\n",
    "        return \"I couldn't find relevant information in the school handbook to answer your question. Please try rephrasing your question or contact the school administration directly.\"\n",
    "    \n",
    "    # Prepare context from retrieved chunks\n",
    "    context = \"\\n\\n\".join([f\"Source {i+1}:\\n{chunk}\" for i, chunk in enumerate(relevant_chunks)])\n",
    "    \n",
    "    # Create prompt for Gemini\n",
    "    prompt = f\"\"\"You are a helpful assistant for Pathways Academy. Use the following information from the school handbook to answer the student's question accurately and helpfully.\n",
    "\n",
    "CONTEXT FROM SCHOOL HANDBOOK:\n",
    "{context}\n",
    "\n",
    "STUDENT QUESTION: {user_question}\n",
    "\n",
    "INSTRUCTIONS:\n",
    "- Answer based primarily on the provided context from the school handbook\n",
    "- Be clear, helpful, and student-friendly\n",
    "- If the context doesn't fully answer the question, mention what information is available and suggest contacting school administration for additional details\n",
    "- Use a warm, supportive tone appropriate for students and parents\n",
    "- Structure your response clearly with headings or bullet points when appropriate\n",
    "\n",
    "ANSWER:\"\"\"\n",
    "\n",
    "    try:\n",
    "        model = genai.GenerativeModel(GENERATION_MODEL_NAME)\n",
    "        response = model.generate_content(prompt)\n",
    "        return response.text\n",
    "    except Exception as e:\n",
    "        print(f\"Error generating response: {e}\")\n",
    "        return \"I apologize, but I'm having trouble generating a response right now. Please try again later or contact the school directly.\"\n",
    "    \n",
    "\n",
    "generated_response = generate_response(sample_prompt_1,retrieved_1)"
   ]
  },
  {
   "cell_type": "code",
   "execution_count": 21,
   "id": "fc742d93",
   "metadata": {},
   "outputs": [
    {
     "name": "stdout",
     "output_type": "stream",
     "text": [
      "Hey there! I can definitely help you with that!\n",
      "\n",
      "Based on the Pathways Academy handbook, here's the school's mission:\n",
      "\n",
      "**Pathways Academy's Mission**\n",
      "\n",
      "The mission of Pathways Academy is to provide a safe, supportive, and stimulating learning environment where all students can:\n",
      "\n",
      "*   Achieve academic excellence\n",
      "*   Develop critical thinking skills\n",
      "*   Become responsible, compassionate, and contributing members of a diverse global society\n",
      "\n",
      "Hope this helps you understand what Pathways Academy is all about! If you have any other questions, feel free to ask! You can also contact the school administration for more details.\n",
      "\n"
     ]
    }
   ],
   "source": [
    "print(generated_response)"
   ]
  },
  {
   "cell_type": "code",
   "execution_count": null,
   "id": "20de5047",
   "metadata": {},
   "outputs": [],
   "source": []
  }
 ],
 "metadata": {
  "kernelspec": {
   "display_name": "Python 3",
   "language": "python",
   "name": "python3"
  },
  "language_info": {
   "codemirror_mode": {
    "name": "ipython",
    "version": 3
   },
   "file_extension": ".py",
   "mimetype": "text/x-python",
   "name": "python",
   "nbconvert_exporter": "python",
   "pygments_lexer": "ipython3",
   "version": "3.12.3"
  }
 },
 "nbformat": 4,
 "nbformat_minor": 5
}
